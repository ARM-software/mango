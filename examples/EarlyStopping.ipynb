{
 "cells": [
  {
   "cell_type": "markdown",
   "id": "promising-google",
   "metadata": {},
   "source": [
    "## Early stopping callback"
   ]
  },
  {
   "cell_type": "markdown",
   "id": "political-complexity",
   "metadata": {},
   "source": [
    "### stop if objective function is below a certain threshold"
   ]
  },
  {
   "cell_type": "code",
   "execution_count": 13,
   "id": "needed-adapter",
   "metadata": {},
   "outputs": [
    {
     "data": {
      "application/vnd.jupyter.widget-view+json": {
       "model_id": "70bcc0e298c44cb190dce802a7d1ad57",
       "version_major": 2,
       "version_minor": 0
      },
      "text/plain": [
       "  0%|          | 0/20 [00:00<?, ?it/s]"
      ]
     },
     "metadata": {},
     "output_type": "display_data"
    },
    {
     "data": {
      "text/plain": [
       "{'random_params': array([{'x': -6}, {'x': -2}], dtype=object),\n",
       " 'random_params_objective': array([-36,  -4]),\n",
       " 'params_tried': array([{'x': -6}, {'x': -2}, {'x': -3}, {'x': 3}, {'x': 0}], dtype=object),\n",
       " 'objective_values': array([36,  4,  9,  9,  0]),\n",
       " 'surrogate_values': array([-36.,  -4.,   0.,   0.,   0.]),\n",
       " 'best_objective': 0,\n",
       " 'best_params': {'x': 0}}"
      ]
     },
     "execution_count": 13,
     "metadata": {},
     "output_type": "execute_result"
    }
   ],
   "source": [
    "from mango import Tuner\n",
    "\n",
    "param_dict = dict(x=range(-10, 10))\n",
    "\n",
    "def objfunc(p_list):\n",
    "    return [p['x'] ** 2 for p in p_list]\n",
    "\n",
    "def early_stop(results):\n",
    "    '''\n",
    "        stop if best objective is below 2\n",
    "        results: dict (same keys as dict returned by tuner.minimize/maximize)\n",
    "    '''\n",
    "    return results['best_objective'] <= 2\n",
    "\n",
    "config = dict(early_stopping=early_stop)\n",
    "\n",
    "tuner = Tuner(param_dict, objfunc, conf_dict=config)\n",
    "results = tuner.minimize()\n",
    "results"
   ]
  },
  {
   "cell_type": "markdown",
   "id": "phantom-elevation",
   "metadata": {},
   "source": [
    "### stop if objective function does not improve for n iterations"
   ]
  },
  {
   "cell_type": "code",
   "execution_count": 14,
   "id": "identical-chile",
   "metadata": {},
   "outputs": [
    {
     "data": {
      "application/vnd.jupyter.widget-view+json": {
       "model_id": "e68c253938fc4b2b85f5576393d2c55f",
       "version_major": 2,
       "version_minor": 0
      },
      "text/plain": [
       "  0%|          | 0/20 [00:00<?, ?it/s]"
      ]
     },
     "metadata": {},
     "output_type": "display_data"
    },
    {
     "data": {
      "text/plain": [
       "{'random_params': array([{'x': 7}, {'x': -4}], dtype=object),\n",
       " 'random_params_objective': array([-49, -16]),\n",
       " 'params_tried': array([{'x': 7}, {'x': -4}, {'x': -2}, {'x': -4}, {'x': -1}, {'x': -10},\n",
       "        {'x': 6}, {'x': -1}, {'x': 6}, {'x': 2}, {'x': 0}, {'x': 1},\n",
       "        {'x': 3}, {'x': -9}], dtype=object),\n",
       " 'objective_values': array([ 49,  16,   4,  16,   1, 100,  36,   1,  36,   4,   0,   1,   9,\n",
       "         81]),\n",
       " 'surrogate_values': array([-4.90000000e+01, -1.60000000e+01,  0.00000000e+00,  0.00000000e+00,\n",
       "         0.00000000e+00,  0.00000000e+00,  0.00000000e+00,  0.00000000e+00,\n",
       "         0.00000000e+00, -3.25445372e+00, -4.75155392e-02, -1.19646246e+00,\n",
       "        -8.63547743e+00, -8.95304193e+01]),\n",
       " 'best_objective': 0,\n",
       " 'best_params': {'x': 0}}"
      ]
     },
     "execution_count": 14,
     "metadata": {},
     "output_type": "execute_result"
    }
   ],
   "source": [
    "from mango import Tuner\n",
    "\n",
    "param_dict = dict(x=range(-10, 10))\n",
    "\n",
    "def objfunc(p_list):\n",
    "    return [p['x'] ** 2 for p in p_list]\n",
    "    \n",
    "\n",
    "def early_stop(results):\n",
    "    '''\n",
    "        stop if best objective does not improve for 2 iterations\n",
    "        results: dict (same keys as dict returned by tuner.minimize/maximize)\n",
    "    '''\n",
    "    current_best = results['best_objective']\n",
    "    patience_window = results['objective_values'][-3:]\n",
    "    return min(patience_window) > current_best\n",
    "\n",
    "config = dict(early_stopping=early_stop)\n",
    "\n",
    "tuner = Tuner(param_dict, objfunc, conf_dict=config)\n",
    "results = tuner.minimize()\n",
    "results"
   ]
  },
  {
   "cell_type": "markdown",
   "id": "stuffed-hearts",
   "metadata": {},
   "source": [
    "### stop if objective function does not improve for n secs"
   ]
  },
  {
   "cell_type": "code",
   "execution_count": 33,
   "id": "express-ability",
   "metadata": {},
   "outputs": [
    {
     "data": {
      "application/vnd.jupyter.widget-view+json": {
       "model_id": "fed303e6d4044f09a3cff610203755b1",
       "version_major": 2,
       "version_minor": 0
      },
      "text/plain": [
       "  0%|          | 0/20 [00:00<?, ?it/s]"
      ]
     },
     "metadata": {},
     "output_type": "display_data"
    },
    {
     "name": "stdout",
     "output_type": "stream",
     "text": [
      "no improvement in 0.100000 seconds: stopping early.\n"
     ]
    },
    {
     "data": {
      "text/plain": [
       "{'random_params': array([{'x': 5}, {'x': -3}], dtype=object),\n",
       " 'random_params_objective': array([-25,  -9]),\n",
       " 'params_tried': array([{'x': 5}, {'x': -3}, {'x': 4}, {'x': 9}], dtype=object),\n",
       " 'objective_values': array([25,  9, 16, 81]),\n",
       " 'surrogate_values': array([-25.,  -9.,   0.,   0.]),\n",
       " 'best_objective': 9,\n",
       " 'best_params': {'x': -3}}"
      ]
     },
     "execution_count": 33,
     "metadata": {},
     "output_type": "execute_result"
    }
   ],
   "source": [
    "import time\n",
    "import numpy as np\n",
    "\n",
    "from mango import Tuner\n",
    "\n",
    "param_dict = dict(x=range(-10, 10))\n",
    "\n",
    "def objfunc(p_list):\n",
    "    time.sleep(0.5)\n",
    "    return [p['x'] ** 2 for p in p_list]\n",
    "    \n",
    "\n",
    "class context:\n",
    "    previous_best = -1.0\n",
    "    previous_best_time = None\n",
    "    min_improvement_secs = 0.1\n",
    "    \n",
    "\n",
    "def early_stop(results):\n",
    "    '''\n",
    "        stop if objective does not improve for 0.1 seconds\n",
    "    '''\n",
    "    current_best = results['best_objective']\n",
    "    current_time = time.time()\n",
    "    \n",
    "\n",
    "    if current_best == context.previous_best and \\\n",
    "            (current_time - context.previous_best_time > context.min_improvement_secs):\n",
    "        print(\"no improvement in %f seconds: stopping early.\" % context.min_improvement_secs)\n",
    "        return True\n",
    "        \n",
    "    context.previous_best = current_best\n",
    "    context.previous_best_time = current_time\n",
    "\n",
    "    return False\n",
    "\n",
    "config = dict(early_stopping=early_stop)\n",
    "\n",
    "tuner = Tuner(param_dict, objfunc, conf_dict=config)\n",
    "results = tuner.minimize()\n",
    "results"
   ]
  },
  {
   "cell_type": "code",
   "execution_count": null,
   "id": "alpine-drilling",
   "metadata": {},
   "outputs": [],
   "source": []
  }
 ],
 "metadata": {
  "kernelspec": {
   "display_name": "Python 3",
   "language": "python",
   "name": "python3"
  },
  "language_info": {
   "codemirror_mode": {
    "name": "ipython",
    "version": 3
   },
   "file_extension": ".py",
   "mimetype": "text/x-python",
   "name": "python",
   "nbconvert_exporter": "python",
   "pygments_lexer": "ipython3",
   "version": "3.9.1"
  }
 },
 "nbformat": 4,
 "nbformat_minor": 5
}
