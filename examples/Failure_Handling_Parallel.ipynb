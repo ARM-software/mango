{
 "cells": [
  {
   "cell_type": "markdown",
   "metadata": {},
   "source": [
    "# Handling failed evaluation in parallel execution"
   ]
  },
  {
   "cell_type": "code",
   "execution_count": 1,
   "metadata": {},
   "outputs": [],
   "source": [
    "from concurrent.futures import ThreadPoolExecutor\n",
    "import time\n",
    "import math\n",
    "\n",
    "from mango.tuner import Tuner\n",
    "from scipy.stats import uniform\n",
    "import random"
   ]
  },
  {
   "cell_type": "markdown",
   "metadata": {},
   "source": [
    "### Objective function"
   ]
  },
  {
   "cell_type": "code",
   "execution_count": 2,
   "metadata": {},
   "outputs": [],
   "source": [
    "# objfun raise an error when parameter x is <= 0\n",
    "def objfun(params):\n",
    "    x = params['x']\n",
    "    if x <= 0:\n",
    "        raise ValueError()\n",
    "    return math.log(x)"
   ]
  },
  {
   "cell_type": "markdown",
   "metadata": {},
   "source": [
    "### Parallel implementation with error handling"
   ]
  },
  {
   "cell_type": "code",
   "execution_count": 3,
   "metadata": {},
   "outputs": [],
   "source": [
    "# define the num of parallel workers\n",
    "n_jobs = 4\n",
    "\n",
    "# Obj_parallel uses concurrent.futures to parallelize the execution of \n",
    "# objfun and handles the failed evaluation\n",
    "def obj_parallel(params_list):\n",
    "    futures = []\n",
    "    params_evaluated = []\n",
    "    results = []\n",
    "    \n",
    "    # here we are use thread executor which is ideal of I/O bound tasks\n",
    "    # we can also use the ProcessPoolExecutor depending on the use case\n",
    "    with ThreadPoolExecutor(max_workers=n_jobs) as executor:\n",
    "        for params in params_list:\n",
    "            future = (params, executor.submit(objfun, params)) \n",
    "            futures.append(future)\n",
    "\n",
    "        for params, future in futures:\n",
    "            try:\n",
    "                result = future.result()\n",
    "                params_evaluated.append(params)\n",
    "                results.append(result)\n",
    "            except ValueError:\n",
    "                print(f\"Value Error raised for {params}\")\n",
    "\n",
    "    return params_evaluated, results\n"
   ]
  },
  {
   "cell_type": "markdown",
   "metadata": {},
   "source": [
    "### Calling Mango to optimize objfun"
   ]
  },
  {
   "cell_type": "code",
   "execution_count": 4,
   "metadata": {},
   "outputs": [
    {
     "name": "stdout",
     "output_type": "stream",
     "text": [
      "Value Error raised for {'x': -1.4909225892493942}\n",
      "Value Error raised for {'x': -1.6105810066567166}\n"
     ]
    },
    {
     "data": {
      "application/vnd.jupyter.widget-view+json": {
       "model_id": "cd8af531699341fca63fabace77ad869",
       "version_major": 2,
       "version_minor": 0
      },
      "text/plain": [
       "  0%|          | 0/10 [00:00<?, ?it/s]"
      ]
     },
     "metadata": {},
     "output_type": "display_data"
    },
    {
     "name": "stdout",
     "output_type": "stream",
     "text": [
      "Value Error raised for {'x': -0.1556820858981438}\n",
      "Value Error raised for {'x': -1.17031058194001}\n",
      "Value Error raised for {'x': -0.43520564628629677}\n",
      "Value Error raised for {'x': -0.03285622956872114}\n",
      "Value Error raised for {'x': -1.6884553740468338}\n",
      "best parameters: {'x': 7.999831206463529}\n",
      "best objective: 2.079420442265186\n"
     ]
    }
   ],
   "source": [
    "\n",
    "param_dict = {\n",
    "    'x': uniform(-2, 10),\n",
    "}\n",
    "\n",
    "tuner = Tuner(param_dict, obj_parallel, {'batch_size': n_jobs, 'num_iteration': 10})\n",
    "results = tuner.maximize()\n",
    "\n",
    "print('best parameters:',results['best_params'])\n",
    "print('best objective:',results['best_objective'])"
   ]
  },
  {
   "cell_type": "code",
   "execution_count": null,
   "metadata": {},
   "outputs": [],
   "source": []
  }
 ],
 "metadata": {
  "kernelspec": {
   "display_name": "Python 3",
   "language": "python",
   "name": "python3"
  },
  "language_info": {
   "codemirror_mode": {
    "name": "ipython",
    "version": 3
   },
   "file_extension": ".py",
   "mimetype": "text/x-python",
   "name": "python",
   "nbconvert_exporter": "python",
   "pygments_lexer": "ipython3",
   "version": "3.9.10"
  }
 },
 "nbformat": 4,
 "nbformat_minor": 4
}
