{
 "cells": [
  {
   "cell_type": "markdown",
   "metadata": {},
   "source": [
    "# Test functions for constrained optimization\n",
    "\n",
    "Taken from : https://en.wikipedia.org/wiki/Test_functions_for_optimization#Test_functions_for_constrained_optimization"
   ]
  },
  {
   "cell_type": "code",
   "execution_count": 2,
   "metadata": {},
   "outputs": [],
   "source": [
    "from mango.tuner import Tuner\n",
    "from scipy.stats import uniform\n",
    "import numpy as np"
   ]
  },
  {
   "cell_type": "markdown",
   "metadata": {},
   "source": [
    "### Rosenbrock function constrained with a cubic and a line [link](https://en.wikipedia.org/wiki/Test_functions_for_optimization#cite_note-10)\n",
    "\n",
    "global minimum f(x: 1 y: 1) = 0"
   ]
  },
  {
   "cell_type": "code",
   "execution_count": 17,
   "metadata": {},
   "outputs": [],
   "source": [
    "param_dict = {\"x\": uniform(-1.5, 3), # -1.5 <= x <= 1.5\n",
    "              'y': uniform(-.5, 3), # -0.5 <= y <= 2.5\n",
    "             }\n",
    "\n",
    "# vectorized version\n",
    "def constraint(params):\n",
    "    x = np.array([s['x'] for s in params])\n",
    "    y = np.array([s['y'] for s in params])\n",
    "    c1 = (x - 1) ** 3 - y + 1 <= 0\n",
    "    c2 =  x + y - 2 <= 0\n",
    "    return c1 & c2\n",
    "\n",
    "\n",
    "def objective(params):\n",
    "    x = np.array([s['x'] for s in params])\n",
    "    y = np.array([s['y'] for s in params])\n",
    "    return (1 - x)**2 + 100 * (y - x ** 2) ** 2\n",
    "\n"
   ]
  },
  {
   "cell_type": "code",
   "execution_count": 27,
   "metadata": {},
   "outputs": [
    {
     "data": {
      "application/vnd.jupyter.widget-view+json": {
       "model_id": "63a58b53cee345869f476f85b7f6d5b1",
       "version_major": 2,
       "version_minor": 0
      },
      "text/plain": [
       "  0%|          | 0/40 [00:00<?, ?it/s]"
      ]
     },
     "metadata": {},
     "output_type": "display_data"
    },
    {
     "name": "stdout",
     "output_type": "stream",
     "text": [
      "best hyper parameters: {'x': 0.9952565771107267, 'y': 1.002234689296834}\n",
      "best objective: 0.013709242088163459\n"
     ]
    }
   ],
   "source": [
    "def minimize(param_dict, objective, constraint, num_iteration=40):\n",
    "    conf = dict(\n",
    "        num_iteration=num_iteration,\n",
    "        constraint=constraint\n",
    "    )\n",
    "\n",
    "    tuner = Tuner(param_dict, objective, conf)\n",
    "    results = tuner.minimize()\n",
    "\n",
    "    print('best hyper parameters:',results['best_params'])\n",
    "    print('best objective:',results['best_objective'])\n",
    "    \n",
    "minimize(param_dict, objective, constraint, num_iteration=40)"
   ]
  },
  {
   "cell_type": "markdown",
   "metadata": {},
   "source": [
    "### Simionescu function [link](https://en.wikipedia.org/wiki/Test_functions_for_optimization#cite_note-16)\n",
    "\n",
    "global minimum f(x: +-0.84852 y: -+0.84852) = -0.072"
   ]
  },
  {
   "cell_type": "code",
   "execution_count": 31,
   "metadata": {},
   "outputs": [],
   "source": [
    "param_dict = {\"x\": uniform(-1.25, 2.5), # -1.25 <= x <= 1.25\n",
    "              'y': uniform(-1.25, 2.5), # -1.25 <= y <= 1.25\n",
    "             }\n",
    "\n",
    "def constraint(params):\n",
    "    x = np.array([s['x'] for s in params])\n",
    "    y = np.array([s['y'] for s in params])\n",
    "    exp1 = x ** 2  + x ** 2\n",
    "    exp2 =  (1 + 0.2 * np.cos(8 * np.arctan(x / y))) ** 2\n",
    "    return exp1 <= exp2\n",
    "\n",
    "def objective(params):\n",
    "    x = np.array([s['x'] for s in params])\n",
    "    y = np.array([s['y'] for s in params])\n",
    "    return 0.1 * x * y\n",
    "\n"
   ]
  },
  {
   "cell_type": "code",
   "execution_count": 32,
   "metadata": {},
   "outputs": [
    {
     "data": {
      "application/vnd.jupyter.widget-view+json": {
       "model_id": "8fab339e557c417bab56640a71163817",
       "version_major": 2,
       "version_minor": 0
      },
      "text/plain": [
       "  0%|          | 0/50 [00:00<?, ?it/s]"
      ]
     },
     "metadata": {},
     "output_type": "display_data"
    },
    {
     "name": "stdout",
     "output_type": "stream",
     "text": [
      "best hyper parameters: {'x': 0.808765375926952, 'y': -0.9812063134118301}\n",
      "best objective: -0.07935656929284174\n"
     ]
    }
   ],
   "source": [
    "minimize(param_dict, objective, constraint, num_iteration=50)"
   ]
  },
  {
   "cell_type": "markdown",
   "metadata": {},
   "source": [
    "### Mishra's Bird function - constrained [link](https://en.wikipedia.org/wiki/Test_functions_for_optimization#cite_note-12)\n",
    "\n",
    "Global minimum f(x: -3.1302, y: -1.58214) = -106.7645"
   ]
  },
  {
   "cell_type": "code",
   "execution_count": 41,
   "metadata": {},
   "outputs": [],
   "source": [
    "param_dict = {\n",
    "    'x': uniform(-10, 10),\n",
    "    'y': uniform(-6.5, 6.5)\n",
    "}\n",
    "\n",
    "def constraint(params):\n",
    "    x = np.array([s['x'] for s in params])\n",
    "    y = np.array([s['y'] for s in params])\n",
    "    exp1 = (x + 5) ** 2 + (y + 5) ** 2\n",
    "\n",
    "    return exp1 < 25\n",
    "\n",
    "def objective(params):\n",
    "    x = np.array([s['x'] for s in params])\n",
    "    y = np.array([s['y'] for s in params])\n",
    "    e1 = np.cos(x)\n",
    "    e2 = np.sin(y)\n",
    "    return e2 * np.exp((1 - e1) ** 2) + e1 * np.exp((1 - e2) ** 2) + (x - y) ** 2"
   ]
  },
  {
   "cell_type": "code",
   "execution_count": 42,
   "metadata": {},
   "outputs": [
    {
     "data": {
      "application/vnd.jupyter.widget-view+json": {
       "model_id": "745bcd9488784b73a3799d16f9e14031",
       "version_major": 2,
       "version_minor": 0
      },
      "text/plain": [
       "  0%|          | 0/50 [00:00<?, ?it/s]"
      ]
     },
     "metadata": {},
     "output_type": "display_data"
    },
    {
     "name": "stdout",
     "output_type": "stream",
     "text": [
      "best hyper parameters: {'x': -3.134727158682633, 'y': -1.5843867190422403}\n",
      "best objective: -106.76110617517443\n"
     ]
    }
   ],
   "source": [
    "minimize(param_dict, objective, constraint, num_iteration=50)"
   ]
  },
  {
   "cell_type": "markdown",
   "metadata": {},
   "source": [
    "### Gomez and Levy function modified [link](https://en.wikipedia.org/wiki/Test_functions_for_optimization#cite_note-15)\n",
    "\n",
    "Global minimum f(x: 0.0898, y:-0.7126) = -1.0316"
   ]
  },
  {
   "cell_type": "code",
   "execution_count": 38,
   "metadata": {},
   "outputs": [],
   "source": [
    "param_dict = {\n",
    "    'x': uniform(-1, 1.75),\n",
    "    'y': uniform(-1, 2)\n",
    "}\n",
    "\n",
    "def constraint(params):\n",
    "    x = np.array([s['x'] for s in params])\n",
    "    y = np.array([s['y'] for s in params])\n",
    "    exp1 = -np.sin(4 * np.pi * x) + 2 * np.sin(2 * np.pi * y) ** 2\n",
    "\n",
    "    return exp1 <= 1.5\n",
    "\n",
    "def objective(params):\n",
    "    x = np.array([s['x'] for s in params])\n",
    "    y = np.array([s['y'] for s in params])\n",
    "    return 4 * x ** 2 - 2.1 * x ** 4 + (1/3) * x ** 6 + x * y - 4 * y ** 2 + 4 * y ** 4"
   ]
  },
  {
   "cell_type": "code",
   "execution_count": 39,
   "metadata": {},
   "outputs": [
    {
     "data": {
      "application/vnd.jupyter.widget-view+json": {
       "model_id": "4362880428a54fcd9edc464abeecbc82",
       "version_major": 2,
       "version_minor": 0
      },
      "text/plain": [
       "  0%|          | 0/50 [00:00<?, ?it/s]"
      ]
     },
     "metadata": {},
     "output_type": "display_data"
    },
    {
     "name": "stdout",
     "output_type": "stream",
     "text": [
      "best hyper parameters: {'x': 0.09100503736344745, 'y': -0.7148970170954021}\n",
      "best objective: -1.0315845466625657\n"
     ]
    }
   ],
   "source": [
    "minimize(param_dict, objective, constraint, num_iteration=50)"
   ]
  },
  {
   "cell_type": "code",
   "execution_count": null,
   "metadata": {},
   "outputs": [],
   "source": []
  }
 ],
 "metadata": {
  "kernelspec": {
   "display_name": "Python 3",
   "language": "python",
   "name": "python3"
  },
  "language_info": {
   "codemirror_mode": {
    "name": "ipython",
    "version": 3
   },
   "file_extension": ".py",
   "mimetype": "text/x-python",
   "name": "python",
   "nbconvert_exporter": "python",
   "pygments_lexer": "ipython3",
   "version": "3.9.1"
  }
 },
 "nbformat": 4,
 "nbformat_minor": 2
}
