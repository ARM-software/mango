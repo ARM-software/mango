{
 "cells": [
  {
   "cell_type": "markdown",
   "metadata": {},
   "source": [
    "# Handling failed evaluation of few of the objective functions"
   ]
  },
  {
   "cell_type": "markdown",
   "metadata": {},
   "source": [
    "### Here we are simulating failures at random"
   ]
  },
  {
   "cell_type": "code",
   "execution_count": 1,
   "metadata": {},
   "outputs": [
    {
     "name": "stdout",
     "output_type": "stream",
     "text": [
      "Evaluation failed\n"
     ]
    },
    {
     "data": {
      "application/vnd.jupyter.widget-view+json": {
       "model_id": "8824fb1e3ebe4fcb9f6941c6a2713e06",
       "version_major": 2,
       "version_minor": 0
      },
      "text/plain": [
       "  0%|          | 0/20 [00:00<?, ?it/s]"
      ]
     },
     "metadata": {},
     "output_type": "display_data"
    },
    {
     "name": "stdout",
     "output_type": "stream",
     "text": [
      "Evaluation failed\n",
      "Evaluation failed\n",
      "Evaluation failed\n",
      "Evaluation failed\n",
      "Evaluation failed\n",
      "best parameters: {'x': np.float64(0.0276446020826544), 'y': np.float64(0.28614807644106754)}\n",
      "best objective: -0.08264494567523134\n"
     ]
    }
   ],
   "source": [
    "'''\n",
    "The objective function return can be a list of successful parameters evaluated via a list of\n",
    "evaluations and respective hyperparameters. In case none is successful, the empty list can be returned.\n",
    "'''\n",
    "\n",
    "from mango.tuner import Tuner\n",
    "from scipy.stats import uniform\n",
    "import random\n",
    "\n",
    "param_dict = {\n",
    "    'x': uniform(-5, 10),\n",
    "    'y': uniform(-5, 10),\n",
    "}\n",
    "\n",
    "\n",
    "# Randomly fail the evaluatioon\n",
    "\n",
    "def objfunc(args_list):\n",
    "    hyper_evaluated = []\n",
    "    objective_evaluated = []\n",
    "    for hyper_par in args_list:\n",
    "        \n",
    "        To_do = random.random()\n",
    "        \n",
    "        if To_do>0.3:\n",
    "        \n",
    "            x = hyper_par['x']\n",
    "            y = hyper_par['y']\n",
    "            objective = -(x**2 + y**2)\n",
    "            objective_evaluated.append(objective)\n",
    "            hyper_evaluated.append(hyper_par)\n",
    "        \n",
    "        # This is failure, do nothing\n",
    "        else:\n",
    "            print(\"Evaluation failed\")\n",
    "            continue\n",
    "            \n",
    "    return hyper_evaluated, objective_evaluated\n",
    "\n",
    "tuner = Tuner(param_dict, objfunc)\n",
    "results = tuner.maximize()\n",
    "\n",
    "print('best parameters:',results['best_params'])\n",
    "print('best objective:',results['best_objective'])"
   ]
  },
  {
   "cell_type": "code",
   "execution_count": 2,
   "metadata": {},
   "outputs": [],
   "source": [
    "x = results[\"params_tried\"]\n",
    "y = results[\"objective_values\"]"
   ]
  },
  {
   "cell_type": "code",
   "execution_count": 3,
   "metadata": {},
   "outputs": [
    {
     "data": {
      "text/plain": [
       "17"
      ]
     },
     "execution_count": 3,
     "metadata": {},
     "output_type": "execute_result"
    }
   ],
   "source": [
    "len(x)"
   ]
  },
  {
   "cell_type": "code",
   "execution_count": 4,
   "metadata": {},
   "outputs": [
    {
     "data": {
      "text/plain": [
       "17"
      ]
     },
     "execution_count": 4,
     "metadata": {},
     "output_type": "execute_result"
    }
   ],
   "source": [
    "len(y)"
   ]
  },
  {
   "cell_type": "raw",
   "metadata": {},
   "source": []
  },
  {
   "cell_type": "code",
   "execution_count": 11,
   "metadata": {},
   "outputs": [
    {
     "name": "stdout",
     "output_type": "stream",
     "text": [
      "-20.74736909502119 -20.74736909502119\n",
      "-42.31845686613488 -42.31845686613488\n",
      "-28.24377819521724 -28.24377819521724\n",
      "-0.10681853281376912 -0.10681853281376912\n",
      "-4.671679570731408 -4.671679570731408\n",
      "-20.018842110693964 -20.018842110693964\n",
      "-13.151638672697791 -13.151638672697791\n",
      "-14.253843472516818 -14.253843472516818\n",
      "-24.466383649475585 -24.466383649475585\n",
      "-1.9945915709452409 -1.9945915709452409\n",
      "-16.554145481793704 -16.554145481793704\n",
      "-1.3652187718750919 -1.3652187718750919\n",
      "-0.5475161352600229 -0.5475161352600229\n",
      "-0.1409257338336861 -0.1409257338336861\n",
      "-0.9355543392875246 -0.9355543392875246\n",
      "-0.08264494567523134 -0.08264494567523134\n",
      "-2.3269622867369497 -2.3269622867369497\n"
     ]
    }
   ],
   "source": [
    "for p, o in zip(x, y):\n",
    "    xx = p['x']\n",
    "    yy = p['y']\n",
    "    oo = -(xx**2 + yy**2)\n",
    "    print(o, oo)\n",
    "          \n",
    "    assert oo == o "
   ]
  },
  {
   "cell_type": "code",
   "execution_count": null,
   "metadata": {},
   "outputs": [],
   "source": []
  }
 ],
 "metadata": {
  "kernelspec": {
   "display_name": "Python 3 (ipykernel)",
   "language": "python",
   "name": "python3"
  },
  "language_info": {
   "codemirror_mode": {
    "name": "ipython",
    "version": 3
   },
   "file_extension": ".py",
   "mimetype": "text/x-python",
   "name": "python",
   "nbconvert_exporter": "python",
   "pygments_lexer": "ipython3",
   "version": "3.11.9"
  }
 },
 "nbformat": 4,
 "nbformat_minor": 4
}
