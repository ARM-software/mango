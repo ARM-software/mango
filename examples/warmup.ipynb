{
 "cells": [
  {
   "cell_type": "markdown",
   "id": "a9019177",
   "metadata": {},
   "source": [
    "# Example to show how previous results can be used to warmup a new tuner run"
   ]
  },
  {
   "cell_type": "code",
   "execution_count": 3,
   "id": "64520ba9",
   "metadata": {},
   "outputs": [],
   "source": [
    "from mango.tuner import Tuner"
   ]
  },
  {
   "cell_type": "markdown",
   "id": "973bd6fd",
   "metadata": {},
   "source": [
    "## A simple objective function that adds two params"
   ]
  },
  {
   "cell_type": "code",
   "execution_count": 4,
   "id": "8906f595",
   "metadata": {},
   "outputs": [
    {
     "data": {
      "application/vnd.jupyter.widget-view+json": {
       "model_id": "7842b7e7cf8d455b99ed74d4fc0d7c4b",
       "version_major": 2,
       "version_minor": 0
      },
      "text/plain": [
       "  0%|          | 0/20 [00:00<?, ?it/s]"
      ]
     },
     "metadata": {},
     "output_type": "display_data"
    }
   ],
   "source": [
    "def objfun(params):\n",
    "    return [param[\"a\"] + param[\"b\"] for param in params]\n",
    "\n",
    "param_space = {\n",
    "    \"a\": range(1, 100),\n",
    "    \"b\": range(1, 100),\n",
    "}\n",
    "\n",
    "tuner = Tuner(param_space, objfun)\n",
    "results = tuner.run()"
   ]
  },
  {
   "cell_type": "markdown",
   "id": "8350f8d9",
   "metadata": {},
   "source": [
    "## Create list of tuples fro tuner results [(x, y), ...]"
   ]
  },
  {
   "cell_type": "code",
   "execution_count": 5,
   "id": "b74f0d1e",
   "metadata": {},
   "outputs": [
    {
     "data": {
      "text/plain": [
       "[({'b': 99, 'a': 71}, 170),\n",
       " ({'b': 92, 'a': 35}, 127),\n",
       " ({'a': 40, 'b': 14}, 54),\n",
       " ({'a': 69, 'b': 97}, 166),\n",
       " ({'a': 66, 'b': 98}, 164),\n",
       " ({'a': 52, 'b': 21}, 73),\n",
       " ({'a': 38, 'b': 77}, 115),\n",
       " ({'a': 67, 'b': 4}, 71),\n",
       " ({'a': 99, 'b': 99}, 198),\n",
       " ({'a': 27, 'b': 7}, 34),\n",
       " ({'a': 99, 'b': 98}, 197),\n",
       " ({'a': 98, 'b': 99}, 197),\n",
       " ({'a': 15, 'b': 3}, 18),\n",
       " ({'a': 54, 'b': 24}, 78),\n",
       " ({'a': 51, 'b': 91}, 142),\n",
       " ({'a': 99, 'b': 97}, 196),\n",
       " ({'a': 97, 'b': 99}, 196),\n",
       " ({'a': 47, 'b': 87}, 134),\n",
       " ({'a': 85, 'b': 18}, 103),\n",
       " ({'a': 76, 'b': 17}, 93),\n",
       " ({'a': 98, 'b': 98}, 196),\n",
       " ({'a': 99, 'b': 96}, 195)]"
      ]
     },
     "execution_count": 5,
     "metadata": {},
     "output_type": "execute_result"
    }
   ],
   "source": [
    "x = results[\"params_tried\"]\n",
    "y = results[\"objective_values\"]\n",
    "xy = list(zip(x, y))\n",
    "xy"
   ]
  },
  {
   "cell_type": "markdown",
   "id": "d5bf57be",
   "metadata": {},
   "source": [
    "## Use the previous result"
   ]
  },
  {
   "cell_type": "code",
   "execution_count": 8,
   "id": "65029dad",
   "metadata": {},
   "outputs": [
    {
     "data": {
      "application/vnd.jupyter.widget-view+json": {
       "model_id": "28039081a31f44ddbab7a84499bf5875",
       "version_major": 2,
       "version_minor": 0
      },
      "text/plain": [
       "  0%|          | 0/20 [00:00<?, ?it/s]"
      ]
     },
     "metadata": {},
     "output_type": "display_data"
    }
   ],
   "source": [
    "config = {\"initial_custom\": xy}\n",
    "\n",
    "tuner = Tuner(param_space, objfun, conf_dict=config)\n",
    "results = tuner.run()"
   ]
  },
  {
   "cell_type": "markdown",
   "id": "6dd22cbd",
   "metadata": {},
   "source": [
    "## Confirm that the previous results were used in the tuner"
   ]
  },
  {
   "cell_type": "code",
   "execution_count": 9,
   "id": "8115b7a3",
   "metadata": {},
   "outputs": [
    {
     "data": {
      "text/plain": [
       "array([{'b': 99, 'a': 71}, {'b': 92, 'a': 35}, {'a': 40, 'b': 14},\n",
       "       {'a': 69, 'b': 97}, {'a': 66, 'b': 98}, {'a': 52, 'b': 21},\n",
       "       {'a': 38, 'b': 77}, {'a': 67, 'b': 4}, {'a': 99, 'b': 99},\n",
       "       {'a': 27, 'b': 7}, {'a': 99, 'b': 98}, {'a': 98, 'b': 99},\n",
       "       {'a': 15, 'b': 3}, {'a': 54, 'b': 24}, {'a': 51, 'b': 91},\n",
       "       {'a': 99, 'b': 97}, {'a': 97, 'b': 99}, {'a': 47, 'b': 87},\n",
       "       {'a': 85, 'b': 18}, {'a': 76, 'b': 17}, {'a': 98, 'b': 98},\n",
       "       {'a': 99, 'b': 96}, {'a': 46, 'b': 44}, {'a': 79, 'b': 68},\n",
       "       {'a': 96, 'b': 99}, {'a': 75, 'b': 30}, {'a': 80, 'b': 54},\n",
       "       {'a': 98, 'b': 97}, {'a': 10, 'b': 27}, {'a': 97, 'b': 98},\n",
       "       {'a': 99, 'b': 95}, {'a': 6, 'b': 91}, {'a': 9, 'b': 99},\n",
       "       {'a': 95, 'b': 99}, {'a': 97, 'b': 97}, {'a': 91, 'b': 34},\n",
       "       {'a': 19, 'b': 55}, {'a': 98, 'b': 96}, {'a': 96, 'b': 98},\n",
       "       {'a': 38, 'b': 97}, {'a': 22, 'b': 59}, {'a': 99, 'b': 94}],\n",
       "      dtype=object)"
      ]
     },
     "execution_count": 9,
     "metadata": {},
     "output_type": "execute_result"
    }
   ],
   "source": [
    "results[\"params_tried\"]"
   ]
  },
  {
   "cell_type": "code",
   "execution_count": null,
   "id": "38849ab8",
   "metadata": {},
   "outputs": [],
   "source": []
  }
 ],
 "metadata": {
  "kernelspec": {
   "display_name": "Python 3 (ipykernel)",
   "language": "python",
   "name": "python3"
  },
  "language_info": {
   "codemirror_mode": {
    "name": "ipython",
    "version": 3
   },
   "file_extension": ".py",
   "mimetype": "text/x-python",
   "name": "python",
   "nbconvert_exporter": "python",
   "pygments_lexer": "ipython3",
   "version": "3.10.10"
  }
 },
 "nbformat": 4,
 "nbformat_minor": 5
}
