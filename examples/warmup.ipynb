{
 "cells": [
  {
   "cell_type": "markdown",
   "id": "a9019177",
   "metadata": {},
   "source": [
    "# Example to show how previous results can be used to warmup a new tuner run"
   ]
  },
  {
   "cell_type": "code",
   "execution_count": 1,
   "id": "64520ba9",
   "metadata": {},
   "outputs": [],
   "source": [
    "from mango.tuner import Tuner"
   ]
  },
  {
   "cell_type": "markdown",
   "id": "973bd6fd",
   "metadata": {},
   "source": [
    "## A simple objective function that adds two params"
   ]
  },
  {
   "cell_type": "code",
   "execution_count": 2,
   "id": "8906f595",
   "metadata": {},
   "outputs": [
    {
     "data": {
      "application/vnd.jupyter.widget-view+json": {
       "model_id": "886f322be5a44eac9b42079e3c8c4f44",
       "version_major": 2,
       "version_minor": 0
      },
      "text/plain": [
       "  0%|          | 0/20 [00:00<?, ?it/s]"
      ]
     },
     "metadata": {},
     "output_type": "display_data"
    }
   ],
   "source": [
    "def objfun(params):\n",
    "    return [param[\"a\"] + param[\"b\"] for param in params]\n",
    "\n",
    "param_space = {\n",
    "    \"a\": range(1, 100),\n",
    "    \"b\": range(1, 100),\n",
    "}\n",
    "\n",
    "tuner = Tuner(param_space, objfun)\n",
    "results = tuner.run()"
   ]
  },
  {
   "cell_type": "markdown",
   "id": "8350f8d9",
   "metadata": {},
   "source": [
    "## Create list of tuples fro tuner results [(x, y), ...]"
   ]
  },
  {
   "cell_type": "code",
   "execution_count": 3,
   "id": "b74f0d1e",
   "metadata": {},
   "outputs": [
    {
     "data": {
      "text/plain": [
       "[({'b': 8, 'a': 85}, np.int64(93)),\n",
       " ({'b': 15, 'a': 93}, np.int64(108)),\n",
       " ({'a': 71, 'b': 19}, np.int64(90)),\n",
       " ({'a': 41, 'b': 95}, np.int64(136)),\n",
       " ({'a': 80, 'b': 22}, np.int64(102)),\n",
       " ({'a': 61, 'b': 51}, np.int64(112)),\n",
       " ({'a': 41, 'b': 65}, np.int64(106)),\n",
       " ({'a': 72, 'b': 20}, np.int64(92)),\n",
       " ({'a': 55, 'b': 99}, np.int64(154)),\n",
       " ({'a': 11, 'b': 29}, np.int64(40)),\n",
       " ({'a': 98, 'b': 66}, np.int64(164)),\n",
       " ({'a': 56, 'b': 32}, np.int64(88)),\n",
       " ({'a': 40, 'b': 3}, np.int64(43)),\n",
       " ({'a': 99, 'b': 99}, np.int64(198)),\n",
       " ({'a': 53, 'b': 14}, np.int64(67)),\n",
       " ({'a': 98, 'b': 99}, np.int64(197)),\n",
       " ({'a': 99, 'b': 98}, np.int64(197)),\n",
       " ({'a': 97, 'b': 99}, np.int64(196)),\n",
       " ({'a': 99, 'b': 97}, np.int64(196)),\n",
       " ({'a': 91, 'b': 16}, np.int64(107)),\n",
       " ({'a': 89, 'b': 15}, np.int64(104)),\n",
       " ({'a': 98, 'b': 98}, np.int64(196))]"
      ]
     },
     "execution_count": 3,
     "metadata": {},
     "output_type": "execute_result"
    }
   ],
   "source": [
    "x = results[\"params_tried\"]\n",
    "y = results[\"objective_values\"]\n",
    "xy = list(zip(x, y))\n",
    "xy"
   ]
  },
  {
   "cell_type": "markdown",
   "id": "d5bf57be",
   "metadata": {},
   "source": [
    "## Use the previous result"
   ]
  },
  {
   "cell_type": "code",
   "execution_count": 4,
   "id": "65029dad",
   "metadata": {},
   "outputs": [
    {
     "data": {
      "application/vnd.jupyter.widget-view+json": {
       "model_id": "5698243cdab745359c6bd57559ceb018",
       "version_major": 2,
       "version_minor": 0
      },
      "text/plain": [
       "  0%|          | 0/20 [00:00<?, ?it/s]"
      ]
     },
     "metadata": {},
     "output_type": "display_data"
    }
   ],
   "source": [
    "config = {\"initial_custom\": xy}\n",
    "\n",
    "tuner = Tuner(param_space, objfun, conf_dict=config)\n",
    "results = tuner.run()"
   ]
  },
  {
   "cell_type": "markdown",
   "id": "6dd22cbd",
   "metadata": {},
   "source": [
    "## Confirm that the previous results were used in the tuner"
   ]
  },
  {
   "cell_type": "code",
   "execution_count": 5,
   "id": "8115b7a3",
   "metadata": {},
   "outputs": [
    {
     "data": {
      "text/plain": [
       "array([{'b': 8, 'a': 85}, {'b': 15, 'a': 93}, {'a': 71, 'b': 19},\n",
       "       {'a': 41, 'b': 95}, {'a': 80, 'b': 22}, {'a': 61, 'b': 51},\n",
       "       {'a': 41, 'b': 65}, {'a': 72, 'b': 20}, {'a': 55, 'b': 99},\n",
       "       {'a': 11, 'b': 29}, {'a': 98, 'b': 66}, {'a': 56, 'b': 32},\n",
       "       {'a': 40, 'b': 3}, {'a': 99, 'b': 99}, {'a': 53, 'b': 14},\n",
       "       {'a': 98, 'b': 99}, {'a': 99, 'b': 98}, {'a': 97, 'b': 99},\n",
       "       {'a': 99, 'b': 97}, {'a': 91, 'b': 16}, {'a': 89, 'b': 15},\n",
       "       {'a': 98, 'b': 98}, {'a': 50, 'b': 76}, {'a': 80, 'b': 88},\n",
       "       {'a': 96, 'b': 99}, {'a': 17, 'b': 12}, {'a': 99, 'b': 96},\n",
       "       {'a': 39, 'b': 48}, {'a': 98, 'b': 97}, {'a': 97, 'b': 98},\n",
       "       {'a': 38, 'b': 1}, {'a': 95, 'b': 99}, {'a': 45, 'b': 77},\n",
       "       {'a': 99, 'b': 95}, {'a': 85, 'b': 9}, {'a': 22, 'b': 93},\n",
       "       {'a': 97, 'b': 97}, {'a': 96, 'b': 98}, {'a': 76, 'b': 57},\n",
       "       {'a': 98, 'b': 96}, {'a': 98, 'b': 13}, {'a': 94, 'b': 99}],\n",
       "      dtype=object)"
      ]
     },
     "execution_count": 5,
     "metadata": {},
     "output_type": "execute_result"
    }
   ],
   "source": [
    "results[\"params_tried\"]"
   ]
  },
  {
   "cell_type": "code",
   "execution_count": null,
   "id": "38849ab8",
   "metadata": {},
   "outputs": [],
   "source": []
  }
 ],
 "metadata": {
  "kernelspec": {
   "display_name": "Python 3 (ipykernel)",
   "language": "python",
   "name": "python3"
  },
  "language_info": {
   "codemirror_mode": {
    "name": "ipython",
    "version": 3
   },
   "file_extension": ".py",
   "mimetype": "text/x-python",
   "name": "python",
   "nbconvert_exporter": "python",
   "pygments_lexer": "ipython3",
   "version": "3.11.9"
  }
 },
 "nbformat": 4,
 "nbformat_minor": 5
}
