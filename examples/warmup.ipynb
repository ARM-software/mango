{
 "cells": [
  {
   "cell_type": "markdown",
   "id": "a9019177",
   "metadata": {},
   "source": [
    "# Example to show how previous results can be used to warmup a new tuner run"
   ]
  },
  {
   "cell_type": "code",
   "execution_count": 6,
   "id": "64520ba9",
   "metadata": {},
   "outputs": [],
   "source": [
    "from mango.tuner import Tuner"
   ]
  },
  {
   "cell_type": "markdown",
   "id": "973bd6fd",
   "metadata": {},
   "source": [
    "## A simple objective function that adds two params"
   ]
  },
  {
   "cell_type": "code",
   "execution_count": 3,
   "id": "8906f595",
   "metadata": {},
   "outputs": [
    {
     "data": {
      "application/vnd.jupyter.widget-view+json": {
       "model_id": "63c31883fe654ceca4f037f4b5abf148",
       "version_major": 2,
       "version_minor": 0
      },
      "text/plain": [
       "  0%|          | 0/20 [00:00<?, ?it/s]"
      ]
     },
     "metadata": {},
     "output_type": "display_data"
    },
    {
     "data": {
      "text/plain": [
       "[({'b': 31, 'a': 92}, 123),\n",
       " ({'b': 15, 'a': 30}, 45),\n",
       " ({'a': 84, 'b': 11}, 95),\n",
       " ({'a': 92, 'b': 89}, 181),\n",
       " ({'a': 50, 'b': 26}, 76),\n",
       " ({'a': 92, 'b': 91}, 183),\n",
       " ({'a': 99, 'b': 99}, 198),\n",
       " ({'a': 11, 'b': 98}, 109),\n",
       " ({'a': 56, 'b': 49}, 105),\n",
       " ({'a': 99, 'b': 98}, 197),\n",
       " ({'a': 98, 'b': 99}, 197),\n",
       " ({'a': 98, 'b': 98}, 196),\n",
       " ({'a': 97, 'b': 99}, 196),\n",
       " ({'a': 99, 'b': 97}, 196),\n",
       " ({'a': 18, 'b': 95}, 113),\n",
       " ({'a': 84, 'b': 15}, 99),\n",
       " ({'a': 26, 'b': 52}, 78),\n",
       " ({'a': 96, 'b': 99}, 195),\n",
       " ({'a': 56, 'b': 41}, 97),\n",
       " ({'a': 23, 'b': 45}, 68),\n",
       " ({'a': 99, 'b': 96}, 195),\n",
       " ({'a': 98, 'b': 97}, 195)]"
      ]
     },
     "execution_count": 3,
     "metadata": {},
     "output_type": "execute_result"
    }
   ],
   "source": [
    "def objfun(params):\n",
    "    return [param[\"a\"] + param[\"b\"] for param in params]\n",
    "\n",
    "param_space = {\n",
    "    \"a\": range(1, 100),\n",
    "    \"b\": range(1, 100),\n",
    "}\n",
    "\n",
    "tuner = Tuner(param_space, objfun)\n",
    "results = tuner.run()"
   ]
  },
  {
   "cell_type": "markdown",
   "id": "8350f8d9",
   "metadata": {},
   "source": [
    "## Create list of tuples fro tuner results [(x, y), ...]"
   ]
  },
  {
   "cell_type": "code",
   "execution_count": 7,
   "id": "b74f0d1e",
   "metadata": {},
   "outputs": [
    {
     "data": {
      "text/plain": [
       "[({'b': 31, 'a': 92}, 123),\n",
       " ({'b': 15, 'a': 30}, 45),\n",
       " ({'a': 84, 'b': 11}, 95),\n",
       " ({'a': 92, 'b': 89}, 181),\n",
       " ({'a': 50, 'b': 26}, 76),\n",
       " ({'a': 92, 'b': 91}, 183),\n",
       " ({'a': 99, 'b': 99}, 198),\n",
       " ({'a': 11, 'b': 98}, 109),\n",
       " ({'a': 56, 'b': 49}, 105),\n",
       " ({'a': 99, 'b': 98}, 197),\n",
       " ({'a': 98, 'b': 99}, 197),\n",
       " ({'a': 98, 'b': 98}, 196),\n",
       " ({'a': 97, 'b': 99}, 196),\n",
       " ({'a': 99, 'b': 97}, 196),\n",
       " ({'a': 18, 'b': 95}, 113),\n",
       " ({'a': 84, 'b': 15}, 99),\n",
       " ({'a': 26, 'b': 52}, 78),\n",
       " ({'a': 96, 'b': 99}, 195),\n",
       " ({'a': 56, 'b': 41}, 97),\n",
       " ({'a': 23, 'b': 45}, 68),\n",
       " ({'a': 99, 'b': 96}, 195),\n",
       " ({'a': 98, 'b': 97}, 195)]"
      ]
     },
     "execution_count": 7,
     "metadata": {},
     "output_type": "execute_result"
    }
   ],
   "source": [
    "x = results[\"params_tried\"]\n",
    "y = results[\"objective_values\"]\n",
    "xy = list(zip(x, y))\n",
    "xy"
   ]
  },
  {
   "cell_type": "code",
   "execution_count": null,
   "id": "9cfc6b6e",
   "metadata": {},
   "outputs": [],
   "source": [
    "## Use the previous result"
   ]
  }
 ],
 "metadata": {
  "kernelspec": {
   "display_name": "Python 3 (ipykernel)",
   "language": "python",
   "name": "python3"
  },
  "language_info": {
   "codemirror_mode": {
    "name": "ipython",
    "version": 3
   },
   "file_extension": ".py",
   "mimetype": "text/x-python",
   "name": "python",
   "nbconvert_exporter": "python",
   "pygments_lexer": "ipython3",
   "version": "3.10.10"
  }
 },
 "nbformat": 4,
 "nbformat_minor": 5
}
