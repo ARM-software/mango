{
 "cells": [
  {
   "cell_type": "markdown",
   "metadata": {},
   "source": [
    "# The following are the parameter spaces used for evaluations"
   ]
  },
  {
   "cell_type": "markdown",
   "metadata": {},
   "source": [
    "## The parameter search space used by Tuner for xgboost, KNN and SVM in the Section IV-A2."
   ]
  },
  {
   "cell_type": "code",
   "execution_count": 1,
   "metadata": {},
   "outputs": [],
   "source": [
    "from scipy.stats import uniform\n",
    "from mango.domain.distribution import loguniform\n",
    "\n",
    "param_svm = {'gamma':uniform(0.1, 4),\n",
    "             'C':loguniform(-7, 10)}\n",
    "\n",
    "param_xgboost = {'learning_rate':uniform(0, 1),\n",
    "                 'gamma':uniform(0, 5),\n",
    "                 'max_depth':range(1,11),\n",
    "                 'n_estimators':range(1,301),\n",
    "                 'booster':['gbtree','gblinear','dart']}\n",
    "               \n",
    "param_knn = {'n_neighbors':range(1, 51),\n",
    "             'algorithm':['auto','ball_tree','kd_tree',\n",
    "             'brute']}"
   ]
  },
  {
   "cell_type": "markdown",
   "metadata": {},
   "source": [
    "## The parameter search space used by MetaTuner for neural network, decision tree, xgboost, KNN and SVM in the Section IV-A3. The neural network has one hidden layer with number of hidden nodes specified in the search space. "
   ]
  },
  {
   "cell_type": "code",
   "execution_count": 2,
   "metadata": {},
   "outputs": [],
   "source": [
    "from scipy.stats import uniform\n",
    "from mango.domain.distribution import loguniform\n",
    "\n",
    "param_nn = {'type':'clf_nn',\n",
    "            'num_of_nodes':range(10, 101)}\n",
    "\n",
    "param_dtree = {'type':'clf_dtree',\n",
    "               'max_features':['auto', 'sqrt', 'log2'],\n",
    "               'max_depth':range(1,21),     \n",
    "               'splitter':['best','random'],\n",
    "               'criterion':['gini','entropy']}\n",
    "             \n",
    "param_svm = {'type':'clf_svm',\n",
    "             'gamma':uniform(0.1, 4),\n",
    "             'C':loguniform(-7, 10)}\n",
    "\n",
    "param_xgboost = {'type':'clf_xgboost',\n",
    "                 'learning_rate':uniform(0, 1),\n",
    "                 'gamma':uniform(0, 5),\n",
    "                 'max_depth':range(1,21),\n",
    "                 'n_estimators':range(1,11),\n",
    "                 'booster':['gbtree','gblinear','dart']}\n",
    "               \n",
    "param_knn = {'type':'clf_knn',\n",
    "             'n_neighbors': range(1, 51),\n",
    "             'algorithm':['auto','ball_tree','kd_tree', \n",
    "             'brute']}\n"
   ]
  },
  {
   "cell_type": "markdown",
   "metadata": {},
   "source": [
    "# The parameter space used for the TCN network in the Section IV:D Case Study: Network Architecture Search for TinyML Platforms"
   ]
  },
  {
   "cell_type": "code",
   "execution_count": 6,
   "metadata": {},
   "outputs": [],
   "source": [
    "import itertools\n",
    "import numpy as np\n",
    "\n",
    "min_layer = 3\n",
    "max_layer = 8\n",
    "a_list = [1,2,4,8,16,32,64,128,256]\n",
    "all_combinations = []\n",
    "dil_list = []\n",
    "for r in range(len(a_list) + 1):\n",
    "    combinations_object = itertools.combinations(a_list, r)\n",
    "    combinations_list = list(combinations_object)\n",
    "    all_combinations += combinations_list\n",
    "all_combinations = all_combinations[1:]\n",
    "for item in all_combinations:\n",
    "    if(len(item) >= min_layer and len(item) <= max_layer):\n",
    "        dil_list.append(list(item))"
   ]
  },
  {
   "cell_type": "code",
   "execution_count": 7,
   "metadata": {},
   "outputs": [],
   "source": [
    "param_dict = {\n",
    "    'nb_filters': range(2,64),\n",
    "    'kernel_size': range(2,16),\n",
    "    'dropout_rate': np.arange(0.0,0.5,0.1),\n",
    "    'use_skip_connections': [True, False],\n",
    "    'norm_flag': np.arange(0,1),\n",
    "    'dil_list': dil_list\n",
    "}"
   ]
  },
  {
   "cell_type": "code",
   "execution_count": 8,
   "metadata": {},
   "outputs": [],
   "source": [
    "# A sample TCN is constructed using the above space using Keras TCN library as:\n",
    "\n",
    "def objective_NN(epochs=500,nb_filters=32,kernel_size=7,dilations=[1, 2, 4, 8, 16, 32, 64, 128],dropout_rate=0,\n",
    "                 use_skip_connections=False,norm_flag=0):\n",
    "    \n",
    "    batch_size, timesteps, input_dim = 256, window_size, 6\n",
    "    i = Input(shape=(timesteps, input_dim))\n",
    "    \n",
    "    if(norm_flag==1):\n",
    "        m = TCN(nb_filters=nb_filters,kernel_size=kernel_size,dilations=dilations,dropout_rate=dropout_rate,\n",
    "                use_skip_connections=use_skip_connections,use_batch_norm=True)(i)\n",
    "    else:\n",
    "        m = TCN(nb_filters=nb_filters,kernel_size=kernel_size,dilations=dilations,dropout_rate=dropout_rate,\n",
    "                use_skip_connections=use_skip_connections)(i)        \n",
    "        \n",
    "    m = tf.reshape(m, [-1, nb_filters, 1])\n",
    "\n",
    "    m = MaxPooling1D(pool_size=(2))(m)\n",
    "    m = Flatten()(m)\n",
    "    m = Dense(32, activation='linear', name='pre')(m)\n",
    "    output1 = Dense(1, activation='linear', name='velx')(m)\n",
    "    output2 = Dense(1, activation='linear', name='vely')(m)\n",
    "    model = Model(inputs=[i], outputs=[output1, output2])\n",
    "    opt = tf.keras.optimizers.Adam()\n",
    "    model.compile(loss={'velx': 'mse','vely':'mse'},optimizer=opt)  \n",
    "    \n",
    "    return model"
   ]
  },
  {
   "cell_type": "code",
   "execution_count": null,
   "metadata": {},
   "outputs": [],
   "source": []
  }
 ],
 "metadata": {
  "kernelspec": {
   "display_name": "Python 3",
   "language": "python",
   "name": "python3"
  },
  "language_info": {
   "codemirror_mode": {
    "name": "ipython",
    "version": 3
   },
   "file_extension": ".py",
   "mimetype": "text/x-python",
   "name": "python",
   "nbconvert_exporter": "python",
   "pygments_lexer": "ipython3",
   "version": "3.6.12"
  }
 },
 "nbformat": 4,
 "nbformat_minor": 4
}
