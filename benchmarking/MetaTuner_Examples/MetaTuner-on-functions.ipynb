{
 "cells": [
  {
   "cell_type": "markdown",
   "metadata": {},
   "source": [
    "# Testing the functionalities of MetaTuner"
   ]
  },
  {
   "cell_type": "code",
   "execution_count": 1,
   "metadata": {},
   "outputs": [],
   "source": [
    "from mango import MetaTuner"
   ]
  },
  {
   "cell_type": "code",
   "execution_count": 2,
   "metadata": {},
   "outputs": [],
   "source": [
    "# Define different functions\n",
    "# f1 (Max value: 1728), f2 (1369), f3 (1110), f4 (1262)\n",
    "\n",
    "from scipy.stats import uniform\n",
    "import math\n",
    "\n",
    "param_space1 = dict(x=uniform(-10, 22))\n",
    "param_space2 = dict(x=uniform(-10, 47))\n",
    "param_space3 = dict(x=uniform(-10, 47))\n",
    "param_space4 = dict(x=uniform(-1500, 1500))\n",
    "\n",
    "\n",
    "\n",
    "def objective_1(args_list):\n",
    "    \n",
    "    results = []\n",
    "    for hyper_par in args_list:\n",
    "        x = hyper_par['x']\n",
    "        \n",
    "        x = x*x*x\n",
    "        results.append(x)\n",
    "        \n",
    "    return results\n",
    "\n",
    "def objective_2(args_list):\n",
    "    \n",
    "    results = []\n",
    "    for hyper_par in args_list:\n",
    "        x = hyper_par['x']\n",
    "        \n",
    "        x = x*x\n",
    "        results.append(x)\n",
    "        \n",
    "    return results\n",
    "\n",
    "\n",
    "def objective_3(args_list):\n",
    "    \n",
    "    results = []\n",
    "    for hyper_par in args_list:\n",
    "        x = hyper_par['x']\n",
    "        \n",
    "        x = 30*abs(x)\n",
    "        results.append(x)\n",
    "        \n",
    "    return results\n",
    "\n",
    "\n",
    "def objective_4(args_list):\n",
    "    \n",
    "    results = []\n",
    "    for hyper_par in args_list:\n",
    "        x = hyper_par['x']\n",
    "        \n",
    "        x = x*math.sin(x/1500.0)\n",
    "        results.append(x)\n",
    "        \n",
    "    return results"
   ]
  },
  {
   "cell_type": "code",
   "execution_count": 3,
   "metadata": {},
   "outputs": [],
   "source": [
    "param_space_list = [param_space1, param_space2, param_space3, param_space4]\n",
    "objective_list = [objective_1, objective_2, objective_3, objective_4]"
   ]
  },
  {
   "cell_type": "code",
   "execution_count": 4,
   "metadata": {},
   "outputs": [],
   "source": [
    "metatuner = MetaTuner(param_space_list, objective_list)"
   ]
  },
  {
   "cell_type": "code",
   "execution_count": 5,
   "metadata": {},
   "outputs": [
    {
     "data": {
      "application/vnd.jupyter.widget-view+json": {
       "model_id": "cf42e34c6ee749a99ed94821cd851378",
       "version_major": 2,
       "version_minor": 0
      },
      "text/plain": [
       "  0%|          | 0/20 [00:00<?, ?it/s]"
      ]
     },
     "metadata": {},
     "output_type": "display_data"
    }
   ],
   "source": [
    "results = metatuner.run()"
   ]
  },
  {
   "cell_type": "code",
   "execution_count": 6,
   "metadata": {},
   "outputs": [
    {
     "name": "stdout",
     "output_type": "stream",
     "text": [
      "random_params\n",
      "random_params_objective\n",
      "random_objective_fid\n",
      "params_tried\n",
      "objective_values\n",
      "objective_fid\n",
      "best_objective\n",
      "best_params\n",
      "best_objective_fid\n"
     ]
    }
   ],
   "source": [
    "# see the keys results of evaluations\n",
    "for k in results:\n",
    "    print(k)"
   ]
  },
  {
   "cell_type": "code",
   "execution_count": 7,
   "metadata": {},
   "outputs": [
    {
     "name": "stdout",
     "output_type": "stream",
     "text": [
      "best_objective: 1727.7776240302223\n",
      "best_params: {'x': 11.999485218727703}\n",
      "best_objective_fid: 0\n"
     ]
    }
   ],
   "source": [
    "print('best_objective:',results['best_objective'])\n",
    "print('best_params:',results['best_params'])\n",
    "print('best_objective_fid:',results['best_objective_fid'])"
   ]
  },
  {
   "cell_type": "code",
   "execution_count": 8,
   "metadata": {},
   "outputs": [
    {
     "name": "stdout",
     "output_type": "stream",
     "text": [
      "[0, 0, 1, 1, 2, 2, 3, 3, 0, 0, 0, 3, 2, 0, 2, 1, 2, 1, 3, 0, 0, 1, 0, 0, 3, 0, 0, 0]\n"
     ]
    }
   ],
   "source": [
    "#order of function evaluation, initial order is random\n",
    "print(results['objective_fid'])"
   ]
  },
  {
   "cell_type": "code",
   "execution_count": 9,
   "metadata": {},
   "outputs": [
    {
     "name": "stdout",
     "output_type": "stream",
     "text": [
      "[-65.76246423195775, 494.14834829980293, 268.2822520020521, 386.9678485994898, 284.6305460771503, 463.95238179526757, 36.45677778476159, 514.4111498783967, 538.2255811709127, 1727.7776240302223, -998.4320521072808, 511.7996575770652, 1109.882172553835, 1722.4154797189685, 1109.3703775942442, 1368.9587568044558, 1109.8483134604567, 1368.7644847954682, 1262.1792604476325, 1726.6760192847912, 1724.8279710511902, 1368.4632907209773, 1725.421563077721, 1727.2018531797116, 1262.0471461356433, 1723.9652774321373, 1723.4982485178052, 1720.766003769914]\n"
     ]
    }
   ],
   "source": [
    "# See the evaluation order of function values\n",
    "print(results['objective_values'])"
   ]
  },
  {
   "cell_type": "markdown",
   "metadata": {},
   "source": [
    "# A simple chart of function evaluations"
   ]
  },
  {
   "cell_type": "code",
   "execution_count": 10,
   "metadata": {},
   "outputs": [
    {
     "name": "stdout",
     "output_type": "stream",
     "text": [
      "    0 +++++++++++++\n",
      "    1 +++++\n",
      "    2 +++++\n",
      "    3 +++++\n"
     ]
    }
   ],
   "source": [
    "def count_elements(seq):\n",
    "    \"\"\"Tally elements from `seq`.\"\"\"\n",
    "    hist = {}\n",
    "    for i in seq:\n",
    "        hist[i] = hist.get(i, 0) + 1\n",
    "    return hist\n",
    "\n",
    "def ascii_histogram(seq):\n",
    "    \"\"\"A horizontal frequency-table/histogram plot.\"\"\"\n",
    "    counted = count_elements(seq)\n",
    "    for k in sorted(counted):\n",
    "        print('{0:5d} {1}'.format(k, '+' * counted[k]))\n",
    "        \n",
    "ascii_histogram(results['objective_fid'])"
   ]
  }
 ],
 "metadata": {
  "kernelspec": {
   "display_name": "Python 3",
   "language": "python",
   "name": "python3"
  },
  "language_info": {
   "codemirror_mode": {
    "name": "ipython",
    "version": 3
   },
   "file_extension": ".py",
   "mimetype": "text/x-python",
   "name": "python",
   "nbconvert_exporter": "python",
   "pygments_lexer": "ipython3",
   "version": "3.6.12"
  }
 },
 "nbformat": 4,
 "nbformat_minor": 4
}
